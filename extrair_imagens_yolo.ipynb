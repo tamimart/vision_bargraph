{
 "cells": [
  {
   "cell_type": "markdown",
   "id": "aa15dc7e-a19c-45e5-9767-daa3a43b578e",
   "metadata": {},
   "source": [
    "# Yolov8 para detecção nos pdfs"
   ]
  },
  {
   "cell_type": "markdown",
   "id": "58c7eab3-4cfa-4736-b169-d48aa655c766",
   "metadata": {
    "tags": []
   },
   "source": [
    "## Anotações:"
   ]
  },
  {
   "cell_type": "code",
   "execution_count": null,
   "id": "337fd58e-4259-4e72-8711-f18efbce3d7d",
   "metadata": {},
   "outputs": [],
   "source": [
    "import os\n",
    "\n",
    "# Caminhos das pastas\n",
    "images_folder = \"...\"  # Pasta com as imagens\n",
    "output_labels_folder = \"...\"  # Pasta para salvar os labels\n",
    "\n",
    "# Garantir que a pasta de saída exista\n",
    "os.makedirs(output_labels_folder, exist_ok=True)\n",
    "\n",
    "# Função para criar labels YOLO (imagem inteira como caixa)\n",
    "def create_full_image_labels(images_folder, output_labels_folder, class_id=0):\n",
    "    for image_file in os.listdir(images_folder):\n",
    "        # Verificar se é uma imagem válida\n",
    "        if image_file.endswith(('.jpg', '.jpeg', '.png')):\n",
    "            image_name = os.path.splitext(image_file)[0]  # Nome sem extensão\n",
    "\n",
    "            # Criar o conteúdo do arquivo label\n",
    "            label_content = f\"{class_id} 0.5 0.5 1.0 1.0\\n\"\n",
    "\n",
    "            # Salvar o label no formato YOLO\n",
    "            output_file = os.path.join(output_labels_folder, f\"{image_name}.txt\")\n",
    "            with open(output_file, \"w\") as f:\n",
    "                f.write(label_content)\n",
    "            print(f\"Label criado para: {image_file}\")\n",
    "\n",
    "# Executar a criação dos labels\n",
    "create_full_image_labels(images_folder, output_labels_folder)\n",
    "print(\"Criação de labels concluída! Todas as imagens agora têm anotações YOLO.\")"
   ]
  },
  {
   "cell_type": "markdown",
   "id": "8d4bf2af-5eba-4711-96c8-de31167c90b1",
   "metadata": {
    "tags": []
   },
   "source": [
    "## Treino do Modelo"
   ]
  },
  {
   "cell_type": "code",
   "execution_count": null,
   "id": "d4619eb6-10a1-45fb-abbd-6aa500d1de7a",
   "metadata": {
    "tags": []
   },
   "outputs": [],
   "source": [
    "from ultralytics import YOLO\n",
    "\n",
    "# Carregar o modelo YOLOv8 pré-treinado\n",
    "model = YOLO(\"yolov8n.pt\")  # YOLOv8 nano (leve e rápido)\n",
    "\n",
    "# Iniciar o treinamento\n",
    "model.train(\n",
    "    data=\"data.yaml\",\n",
    "    epochs=20,       # Número de épocas\n",
    "    imgsz=640,       # Tamanho das imagens\n",
    "    batch=16,        # Tamanho do batch\n",
    "    device=\"cuda:3\", # GPU a ser utilizada\n",
    "    name=\"yolov8_bar_chart\"\n",
    ")\n",
    "\n",
    "print(\"Treinamento concluído!\")\n"
   ]
  },
  {
   "cell_type": "markdown",
   "id": "6ce6e1a3-b2ec-4d38-ad68-ca8cf1bc58e8",
   "metadata": {},
   "source": [
    "## Usar o modelo"
   ]
  },
  {
   "cell_type": "code",
   "execution_count": null,
   "id": "b8bddf91-6ad2-4454-a531-e3d026487259",
   "metadata": {},
   "outputs": [],
   "source": []
  }
 ],
 "metadata": {
  "kernelspec": {
   "display_name": "Python 3 (ipykernel)",
   "language": "python",
   "name": "python3"
  },
  "language_info": {
   "codemirror_mode": {
    "name": "ipython",
    "version": 3
   },
   "file_extension": ".py",
   "mimetype": "text/x-python",
   "name": "python",
   "nbconvert_exporter": "python",
   "pygments_lexer": "ipython3",
   "version": "3.10.10"
  }
 },
 "nbformat": 4,
 "nbformat_minor": 5
}
