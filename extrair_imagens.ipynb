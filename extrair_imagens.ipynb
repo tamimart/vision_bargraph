{
 "cells": [
  {
   "cell_type": "markdown",
   "id": "8ec7de79-a59f-45be-bd2c-1e7a7a1bdb53",
   "metadata": {},
   "source": [
    "\n",
    "Este script extrai imagens de arquivos PDF em uma pasta específica, salva as imagens\n",
    "em uma pasta de saída com nomes que referenciam o nome do PDF original e gera um arquivo\n",
    "CSV contendo o nome de cada imagem e uma etiqueta (\"bars\") para cada uma delas.\n",
    "\n",
    "Dependências:\n",
    "- PyMuPDF (fitz)\n",
    "- Pillow (PIL)\n",
    "- pandas\n",
    "\n",
    "Instale as dependências com:\n",
    "pip install pymupdf pillow pandas"
   ]
  },
  {
   "cell_type": "code",
   "execution_count": 1,
   "id": "f3744b49-92bc-4907-ad91-b84abeadb895",
   "metadata": {
    "tags": []
   },
   "outputs": [
    {
     "name": "stdout",
     "output_type": "stream",
     "text": [
      "Requirement already satisfied: pymupdf in /opt/conda/envs/Python3.9/lib/python3.9/site-packages (1.24.12)\n",
      "Requirement already satisfied: pillow in /opt/conda/envs/Python3.9/lib/python3.9/site-packages (11.0.0)\n",
      "Requirement already satisfied: pandas in /opt/conda/envs/Python3.9/lib/python3.9/site-packages (2.2.3)\n",
      "Requirement already satisfied: numpy>=1.22.4 in /opt/conda/envs/Python3.9/lib/python3.9/site-packages (from pandas) (2.0.2)\n",
      "Requirement already satisfied: python-dateutil>=2.8.2 in /opt/conda/envs/Python3.9/lib/python3.9/site-packages (from pandas) (2.8.2)\n",
      "Requirement already satisfied: pytz>=2020.1 in /opt/conda/envs/Python3.9/lib/python3.9/site-packages (from pandas) (2024.2)\n",
      "Requirement already satisfied: tzdata>=2022.7 in /opt/conda/envs/Python3.9/lib/python3.9/site-packages (from pandas) (2024.2)\n",
      "Requirement already satisfied: six>=1.5 in /opt/conda/envs/Python3.9/lib/python3.9/site-packages (from python-dateutil>=2.8.2->pandas) (1.15.0)\n",
      "Note: you may need to restart the kernel to use updated packages.\n"
     ]
    }
   ],
   "source": [
    "pip install pymupdf pillow pandas"
   ]
  },
  {
   "cell_type": "code",
   "execution_count": 3,
   "id": "13468cb2-a5e7-4053-9ac3-ec6733ac052c",
   "metadata": {
    "tags": []
   },
   "outputs": [
    {
     "name": "stdout",
     "output_type": "stream",
     "text": [
      "Collecting package metadata (current_repodata.json): done\n",
      "Solving environment: done\n",
      "\n",
      "\n",
      "==> WARNING: A newer version of conda exists. <==\n",
      "  current version: 23.3.1\n",
      "  latest version: 24.11.0\n",
      "\n",
      "Please update conda by running\n",
      "\n",
      "    $ conda update -n base -c conda-forge conda\n",
      "\n",
      "Or to minimize the number of packages updated during conda update use\n",
      "\n",
      "     conda install conda=24.11.0\n",
      "\n",
      "\n",
      "\n",
      "# All requested packages already installed.\n",
      "\n",
      "\n",
      "Note: you may need to restart the kernel to use updated packages.\n"
     ]
    }
   ],
   "source": [
    "conda install -c conda-forge pymupdf"
   ]
  },
  {
   "cell_type": "markdown",
   "id": "11a6439c-7285-4281-afe4-44df712585e2",
   "metadata": {
    "tags": []
   },
   "source": [
    "\"conda install -c conda-forge pymupdf\"\n",
    "O Que o Comando Faz:\n",
    "Instala o PyMuPDF (ou seja, o módulo fitz) no ambiente atual do conda.\n",
    "Garante que as dependências necessárias também sejam instaladas automaticamente.\n",
    "\n",
    "Observação: Caso esteja usando um ambiente Jupyter, é bom verificar se todor os pacotes já estão instalados "
   ]
  },
  {
   "cell_type": "code",
   "execution_count": 4,
   "id": "4e16ef0d-cb44-4cc9-bb65-93134bf12f40",
   "metadata": {
    "tags": []
   },
   "outputs": [],
   "source": [
    "import fitz  # Biblioteca PyMuPDF para manipulação de PDFs\n",
    "import os    # Biblioteca para manipulação de arquivos e diretórios\n",
    "import pandas as pd  # Biblioteca para manipulação de dados e criação do CSV"
   ]
  },
  {
   "cell_type": "markdown",
   "id": "aa178524-1cb6-4b45-bad5-9f85cc844655",
   "metadata": {},
   "source": [
    "Função para extrair imagens de todos os PDFs em uma pasta e salvar os dados no formato CSV."
   ]
  },
  {
   "cell_type": "code",
   "execution_count": null,
   "id": "f0b1103c-503a-45bb-9c7c-97967086ec1f",
   "metadata": {},
   "outputs": [],
   "source": [
    "def extract_images_from_pdfs(input_folder, output_folder, csv_path):\n",
    "   \n",
    "    # Criar a pasta de saída para salvar as imagens, se ela não existir\n",
    "    os.makedirs(output_folder, exist_ok=True)\n",
    "\n",
    "    # Lista para armazenar os dados que serão inseridos no CSV\n",
    "    extracted_data = []\n",
    "\n",
    "    # Iterar sobre todos os arquivos na pasta de entrada\n",
    "    for pdf_file in os.listdir(input_folder):\n",
    "        # Processar apenas arquivos com extensão \".pdf\"\n",
    "        if pdf_file.endswith(\".pdf\"):\n",
    "            # Obter o caminho completo do PDF e o nome base (sem extensão)\n",
    "            pdf_path = os.path.join(input_folder, pdf_file)\n",
    "            pdf_name = os.path.splitext(pdf_file)[0]\n",
    "\n",
    "            print(f\"Processando: {pdf_file}\")\n",
    "\n",
    "            # Abrir o PDF com PyMuPDF\n",
    "            doc = fitz.open(pdf_path)\n",
    "\n",
    "            # Iterar sobre todas as páginas do PDF\n",
    "            for page_index in range(len(doc)):\n",
    "                page = doc.load_page(page_index)\n",
    "\n",
    "                # Obter todas as imagens da página\n",
    "                images = page.get_images(full=True)\n",
    "\n",
    "                # Iterar sobre as imagens extraídas\n",
    "                for img_index, img in enumerate(images):\n",
    "                    # Identificador único da imagem no PDF (xref)\n",
    "                    xref = img[0]\n",
    "\n",
    "                    # Extrair os dados da imagem\n",
    "                    base_image = doc.extract_image(xref)\n",
    "                    image_bytes = base_image[\"image\"]\n",
    "\n",
    "                    # Nome da imagem incluindo o nome do PDF, número da página e índice da imagem\n",
    "                    image_name = f\"{pdf_name}_page{page_index}_img{img_index}.png\"\n",
    "                    image_path = os.path.join(output_folder, image_name)\n",
    "\n",
    "                    # Salvar a imagem no formato PNG\n",
    "                    with open(image_path, \"wb\") as img_file:\n",
    "                        img_file.write(image_bytes)\n",
    "\n",
    "                    print(f\"Imagem extraída: {image_name}\")\n",
    "\n",
    "                    # Adicionar os dados ao CSV (nome da imagem e rótulo fixo \"bars\")\n",
    "                    extracted_data.append({\n",
    "                        \"image_name\": image_name,\n",
    "                        \"label\": \"bars\"\n",
    "                    })\n",
    "\n",
    "    # Criar um DataFrame a partir da lista de dados e salvar como CSV\n",
    "    df = pd.DataFrame(extracted_data)\n",
    "    df.to_csv(csv_path, index=False)\n",
    "\n",
    "    print(f\"Arquivo CSV criado com sucesso: {csv_path}\")"
   ]
  },
  {
   "cell_type": "markdown",
   "id": "7cfcb192-1207-4422-8143-4cdc14f7de47",
   "metadata": {},
   "source": [
    " Definir as pastas de entrada, saída e o caminho para o CSV"
   ]
  },
  {
   "cell_type": "code",
   "execution_count": null,
   "id": "31712b4f-b3ec-45ff-aeb0-be98fe534823",
   "metadata": {},
   "outputs": [],
   "source": [
    "\n",
    "input_folder = \"/Path\"  # Pasta contendo os PDFs\n",
    "output_folder = \"/Path\"  # Pasta para salvar as imagens\n",
    "csv_path = \"/Path\"  # Caminho para o CSV gerado\n"
   ]
  },
  {
   "cell_type": "markdown",
   "id": "f239eeb9-34a7-44bf-80ca-0f0a367ee923",
   "metadata": {},
   "source": [
    "Executar o processo de extração"
   ]
  },
  {
   "cell_type": "code",
   "execution_count": null,
   "id": "bb6afa5b-7344-41b3-bbed-5dc531586581",
   "metadata": {},
   "outputs": [],
   "source": [
    "\n",
    "extract_images_from_pdfs(input_folder, output_folder, csv_path)\n",
    "\n",
    "print(\"Processo concluído!\")\n"
   ]
  },
  {
   "cell_type": "code",
   "execution_count": null,
   "id": "cc91df93-1927-4e12-b100-9a9a7966266f",
   "metadata": {},
   "outputs": [],
   "source": []
  }
 ],
 "metadata": {
  "kernelspec": {
   "display_name": "Python 3.9",
   "language": "python",
   "name": "python3.9"
  },
  "language_info": {
   "codemirror_mode": {
    "name": "ipython",
    "version": 3
   },
   "file_extension": ".py",
   "mimetype": "text/x-python",
   "name": "python",
   "nbconvert_exporter": "python",
   "pygments_lexer": "ipython3",
   "version": "3.9.18"
  }
 },
 "nbformat": 4,
 "nbformat_minor": 5
}
