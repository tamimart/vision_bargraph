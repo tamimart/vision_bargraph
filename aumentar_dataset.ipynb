{
 "cells": [
  {
   "cell_type": "markdown",
   "id": "18a2b55e-46e5-44ec-905d-a9801e543cc4",
   "metadata": {},
   "source": [
    "# Data Augmentation"
   ]
  },
  {
   "cell_type": "markdown",
   "id": "6e0dbbb6-2e6e-4126-bac9-92f655f6eaea",
   "metadata": {},
   "source": [
    "Neste trabalho, utilizamos técnicas de Data Augmentation para ampliar o dataset original composto por imagens de gráficos de barras extraídas de documentos. O código desenvolvido realiza as seguintes etapas: (1) organiza o dataset em subpastas baseadas nas classes (\"bars\" e \"no\"), preservando as imagens originais; (2) aplica transformações específicas de aumento de dados para simular variações realistas nos gráficos, como translações, alterações de escala, ajustes de brilho, contraste, saturação e recortes aleatórios; e (3) gera novas imagens aumentadas com base em um fator de aumento definido (por exemplo, triplicar o dataset). As transformações foram cuidadosamente projetadas para refletir possíveis variações nos gráficos encontrados em diferentes documentos, enquanto preservam as características essenciais para a tarefa de classificação. Ao final, o dataset aumentado é salvo em um novo diretório, estruturado de forma organizada para facilitar o treinamento de modelos de aprendizado profundo.\n",
    "\n",
    "As imagens originais foram retirades de: https://www.kaggle.com/datasets/sunedition/graphs-dataset"
   ]
  },
  {
   "cell_type": "code",
   "execution_count": null,
   "id": "e9981582-a599-4b5d-ad2a-d74c6467ac64",
   "metadata": {},
   "outputs": [],
   "source": [
    "import os\n",
    "from torchvision import transforms\n",
    "from PIL import Image\n",
    "import random\n",
    "\n",
    "# Configurações\n",
    "base_dir = \"...\"  # Pasta com subpastas 'bars' e 'no bars'\n",
    "augmented_dir = \"...\"  # Onde salvar o dataset aumentado\n",
    "augmentation_factor = 3  # Fator de aumento (2x = dobrar, 3x = triplicar)\n",
    "img_size = 128\n",
    "\n",
    "# Transformações específicas para gráficos de barras\n",
    "augmentation_transforms = transforms.Compose([\n",
    "    transforms.RandomAffine(degrees=0, translate=(0.1, 0.1), scale=(0.8, 1.2)),  # Escala e deslocamento\n",
    "    transforms.RandomResizedCrop(size=img_size, scale=(0.8, 1.0)),  # Simula gráficos incompletos\n",
    "    transforms.Resize((img_size, img_size)),  # Redimensiona apenas versões aumentadas\n",
    "    transforms.ColorJitter(brightness=0.2, contrast=0.2, saturation=0.2, hue=0.1),  # Ajustes de cor\n",
    "    transforms.ToTensor(),  # Converte para tensor (necessário antes de Normalize)\n",
    "    transforms.Normalize(mean=[0.485, 0.456, 0.406], std=[0.229, 0.224, 0.225])  # Normalização\n",
    "])\n",
    "\n",
    "# Criar diretório para o dataset aumentado\n",
    "if not os.path.exists(augmented_dir):\n",
    "    os.makedirs(augmented_dir)\n",
    "\n",
    "# Função para aplicar Data Augmentation em uma classe\n",
    "def augment_class(class_name, num_augmentations):\n",
    "    class_dir = os.path.join(base_dir, class_name)\n",
    "    output_dir = os.path.join(augmented_dir, class_name)\n",
    "    if not os.path.exists(output_dir):\n",
    "        os.makedirs(output_dir)\n",
    "    \n",
    "    # Filtrar apenas imagens válidas\n",
    "    valid_extensions = ['.jpg', '.jpeg', '.png']\n",
    "    original_images = [img for img in os.listdir(class_dir) \n",
    "                       if os.path.isfile(os.path.join(class_dir, img)) and img.lower().endswith(tuple(valid_extensions))]\n",
    "    \n",
    "    for img_name in original_images:\n",
    "        # Copiar imagem original para o dataset aumentado\n",
    "        original_path = os.path.join(class_dir, img_name)\n",
    "        Image.open(original_path).save(os.path.join(output_dir, img_name))\n",
    "    \n",
    "    # Gerar imagens aumentadas\n",
    "    for i in range(num_augmentations):\n",
    "        img_name = random.choice(original_images)\n",
    "        img_path = os.path.join(class_dir, img_name)\n",
    "        image = Image.open(img_path).convert(\"RGB\")\n",
    "        augmented_image = augmentation_transforms(image)\n",
    "        \n",
    "        # Salvar imagem aumentada\n",
    "        augmented_image_pil = transforms.ToPILImage()(augmented_image)\n",
    "        augmented_image_pil.save(os.path.join(output_dir, f\"aug_{i}.jpg\"))\n",
    "\n",
    "# Aplicar Data Augmentation para cada classe\n",
    "for class_name in ['bars', 'no bars']:\n",
    "    class_dir = os.path.join(base_dir, class_name)\n",
    "    num_original_images = len([f for f in os.listdir(class_dir) \n",
    "                                if os.path.isfile(os.path.join(class_dir, f)) and not f.startswith('.ipynb_checkpoints')])\n",
    "    num_augmentations = num_original_images * (augmentation_factor - 1)  # Dobrar ou triplicar\n",
    "    print(f\"Aumentando classe '{class_name}' de {num_original_images} para {num_original_images + num_augmentations} imagens...\")\n",
    "    augment_class(class_name, num_augmentations)\n",
    "\n",
    "print(f\"Dataset aumentado salvo em {augmented_dir}\")\n"
   ]
  }
 ],
 "metadata": {
  "kernelspec": {
   "display_name": "Python 3 (ipykernel)",
   "language": "python",
   "name": "python3"
  },
  "language_info": {
   "codemirror_mode": {
    "name": "ipython",
    "version": 3
   },
   "file_extension": ".py",
   "mimetype": "text/x-python",
   "name": "python",
   "nbconvert_exporter": "python",
   "pygments_lexer": "ipython3",
   "version": "3.10.10"
  }
 },
 "nbformat": 4,
 "nbformat_minor": 5
}
