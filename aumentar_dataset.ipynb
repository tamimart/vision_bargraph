{
 "cells": [
  {
   "cell_type": "markdown",
   "id": "18a2b55e-46e5-44ec-905d-a9801e543cc4",
   "metadata": {},
   "source": [
    "# Data Augmentation"
   ]
  },
  {
   "cell_type": "markdown",
   "id": "6e0dbbb6-2e6e-4126-bac9-92f655f6eaea",
   "metadata": {},
   "source": [
    "Neste trabalho, utilizamos técnicas de Data Augmentation para ampliar o dataset original composto por imagens de gráficos de barras extraídas de documentos. O código desenvolvido realiza as seguintes etapas: (1) organiza o dataset em subpastas baseadas nas classes (\"bars\" e \"no\"), preservando as imagens originais; (2) aplica transformações específicas de aumento de dados para simular variações realistas nos gráficos, como translações, alterações de escala, ajustes de brilho, contraste, saturação e recortes aleatórios; e (3) gera novas imagens aumentadas com base em um fator de aumento definido (por exemplo, triplicar o dataset). As transformações foram cuidadosamente projetadas para refletir possíveis variações nos gráficos encontrados em diferentes documentos, enquanto preservam as características essenciais para a tarefa de classificação. Ao final, o dataset aumentado é salvo em um novo diretório, estruturado de forma organizada para facilitar o treinamento de modelos de aprendizado profundo.\n",
    "\n",
    "As imagens originais foram retirades de: https://www.kaggle.com/datasets/sunedition/graphs-dataset"
   ]
  },
  {
   "cell_type": "code",
   "execution_count": null,
   "id": "e9981582-a599-4b5d-ad2a-d74c6467ac64",
   "metadata": {},
   "outputs": [],
   "source": [
    "import os\n",
    "from torchvision import transforms\n",
    "from PIL import Image\n",
    "import random\n",
    "\n",
    "# Configurações\n",
    "base_dir = \"...\"  # Pasta com subpastas 'bars' e 'no bars'\n",
    "augmented_dir = \"...\"  # Onde salvar o dataset aumentado\n",
    "augmentation_factor = 2  # Fator de aumento (2x = dobrar, 3x = triplicar)\n",
    "\n",
    "# Pipelines de transformação\n",
    "pipeline_1 = transforms.Compose([\n",
    "    transforms.Grayscale(num_output_channels=1),  # Converter para tons de cinza\n",
    "    transforms.RandomAffine(degrees=2, translate=(0.05, 0.05), scale=(0.95, 1.05)),  # Transformações afins leves\n",
    "])\n",
    "\n",
    "pipeline_2 = transforms.Compose([\n",
    "    transforms.RandomResizedCrop(size=(256, 256), scale=(0.75, 0.95)),  # Recorte aleatório entre 75% e 95% da área original\n",
    "    transforms.ColorJitter(brightness=0.2, contrast=0.2, saturation=0.2, hue=0.1),  # Ajuste de cor\n",
    "])\n",
    "\n",
    "pipeline_3 = transforms.Compose([\n",
    "    transforms.Lambda(lambda img: img.convert(\"RGB\") if img.mode == \"L\" else img.convert(\"L\")),  # Alternar entre RGB e tons de cinza\n",
    "])\n",
    "\n",
    "# Criar diretório para o dataset aumentado\n",
    "if not os.path.exists(augmented_dir):\n",
    "    os.makedirs(augmented_dir)\n",
    "\n",
    "# Função para aplicar Data Augmentation em uma classe\n",
    "def augment_class(class_name, num_augmentations):\n",
    "    class_dir = os.path.join(base_dir, class_name)\n",
    "    output_dir = os.path.join(augmented_dir, class_name)\n",
    "    if not os.path.exists(output_dir):\n",
    "        os.makedirs(output_dir)\n",
    "    \n",
    "    # Filtrar apenas imagens válidas e ignorar `.ipynb_checkpoints`\n",
    "    valid_extensions = ['.jpg', '.jpeg', '.png']\n",
    "    original_images = [img for img in os.listdir(class_dir) \n",
    "                       if os.path.isfile(os.path.join(class_dir, img)) and img.lower().endswith(tuple(valid_extensions))]\n",
    "    \n",
    "    for img_name in original_images:\n",
    "        # Copiar imagem original para o dataset aumentado\n",
    "        original_path = os.path.join(class_dir, img_name)\n",
    "        Image.open(original_path).save(os.path.join(output_dir, img_name))\n",
    "    \n",
    "    # Gerar imagens aumentadas\n",
    "    for i in range(num_augmentations):\n",
    "        img_name = random.choice(original_images)\n",
    "        img_path = os.path.join(class_dir, img_name)\n",
    "        image = Image.open(img_path).convert(\"RGB\")\n",
    "        \n",
    "        # Escolher um pipeline de transformação baseado em i\n",
    "        if i % 3 == 0:\n",
    "            augmented_image = pipeline_1(image)\n",
    "        elif i % 3 == 1:\n",
    "            augmented_image = pipeline_2(image)\n",
    "        else:\n",
    "            augmented_image = pipeline_3(image)\n",
    "        \n",
    "        # Salvar imagem aumentada\n",
    "        augmented_image_pil = augmented_image if isinstance(augmented_image, Image.Image) else transforms.ToPILImage()(augmented_image)\n",
    "        augmented_image_pil.save(os.path.join(output_dir, f\"aug_{i}_{img_name}\"))\n",
    "\n",
    "# Aplicar Data Augmentation para cada classe\n",
    "for class_name in ['bars', 'no bars']:\n",
    "    class_dir = os.path.join(base_dir, class_name)\n",
    "    num_original_images = len([f for f in os.listdir(class_dir) \n",
    "                                if os.path.isfile(os.path.join(class_dir, f)) and not f.startswith('.ipynb_checkpoints')])\n",
    "    num_augmentations = num_original_images * (augmentation_factor - 1)  # Dobrar ou triplicar\n",
    "    print(f\"Aumentando classe '{class_name}' de {num_original_images} para {num_original_images + num_augmentations} imagens...\")\n",
    "    augment_class(class_name, num_augmentations)\n",
    "\n",
    "print(f\"Dataset aumentado salvo em {augmented_dir}\")\n"
   ]
  }
 ],
 "metadata": {
  "kernelspec": {
   "display_name": "Python 3 (ipykernel)",
   "language": "python",
   "name": "python3"
  },
  "language_info": {
   "codemirror_mode": {
    "name": "ipython",
    "version": 3
   },
   "file_extension": ".py",
   "mimetype": "text/x-python",
   "name": "python",
   "nbconvert_exporter": "python",
   "pygments_lexer": "ipython3",
   "version": "3.10.10"
  }
 },
 "nbformat": 4,
 "nbformat_minor": 5
}
